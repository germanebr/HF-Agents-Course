{
 "cells": [
  {
   "cell_type": "markdown",
   "metadata": {},
   "source": [
    "This notebook will showcase the capabilities of the Hugging Face **smolagents** library, which provides a lightweitght framework for creating AI agents.\n",
    "\n",
    "The following code samples will exemplify how to use this package to build agents capable of searching for data, executing code, and interacting with web pages. Finally, we'll review how to combine multiple agents to create more powerful systems."
   ]
  },
  {
   "cell_type": "markdown",
   "metadata": {},
   "source": [
    "# Knowing *smolagents*"
   ]
  },
  {
   "cell_type": "markdown",
   "metadata": {},
   "source": [
    "The package *smolagents* is a framework for building AI agents, providing LLMs with the agency to interact with the real world, like searching or generating images.\n",
    "\n",
    "These are some of the main advantages of using this package for building your AI Agents:\n",
    "\n",
    "* **Simplicity.** Has minimal code complexity and abstractions to make the framework easy to understand and use\n",
    "* **Flexible LLM Support.** The package is capable of working with any LLM through integration with Hugging Face tools and external APIs\n",
    "* **Code-First Approach.** It has first-class support for Code Agents that write their actions directly in code, removing the need for parsing and simplifying tool calling\n",
    "* **HF Hub Integrations.** It also counts with seamless integration with the Hugging Face Hub, allowing the use of Gradio Sapces as tools\n",
    "\n",
    "Another difference with other frameworks is that *smolagents* focuses on tool calls in code instead of writing actions in JSON format. This skips the need to parse the JSON data in order to build code that calls the tools, and executing it directly."
   ]
  },
  {
   "cell_type": "markdown",
   "metadata": {},
   "source": [
    "It is better to use this package under the following situations:\n",
    "\n",
    "* You need a **lightweight and minimal solution**\n",
    "* You want to **experiment quickly** without complex configurations\n",
    "* Your **application logic is straightforward**"
   ]
  },
  {
   "cell_type": "markdown",
   "metadata": {},
   "source": [
    "The package works with **multi-step agents**, where each perform the following:\n",
    "\n",
    "* One thought\n",
    "* One tool call and execution\n",
    "\n",
    "The primary agent of the package is the **CodeAgent**, although it also supports **ToolCallingAgent**, which writes tool calls in JSON, like other frameworks.\n",
    "\n",
    "It is important to mention that the package defines its tools with the *@tool* decorator, or using the *Tool* class."
   ]
  },
  {
   "cell_type": "markdown",
   "metadata": {},
   "source": [
    "The model integration of the package supports flexible connection with multiple LLM models that meet certain criteria. These are some of the predefined classes that allow model connection:\n",
    "\n",
    "* **TransformersModel.** Implements local transformers pipelines for seamless integration\n",
    "* **HfApiModel.** Supports serverless inference calls through the *Hugging Face's infrastructure*, or through *third-party inference providers*\n",
    "* **LiteLLMModel.** Leverages *LiteLLM* for lightweight model interactions\n",
    "* **OpenAIServerModel.** Connects to any service that offers an OpenAI API interface\n",
    "* **AzureOpenAIServerModel.** Supports integration with any Azure OpenAI deployment"
   ]
  },
  {
   "cell_type": "markdown",
   "metadata": {},
   "source": [
    "# Building Agents that Use Code\n",
    "\n",
    "As mentioned before, the core agent type of *smolagents* is the **Code Agent** that generates Python tool calls to perform actions. This approach reduces the number of required actions, simplifies complex operations, and enables reuse of existing code functions.\n",
    "\n",
    "The general approach that most of the frameworks follow is to use a JSON format to specify tool names and arguments as strings, which then the system **must parse to determine which tool to execute**. However, there are studies that suggest that **tool-calling LLMs work more effectively with code directly**, being some of the core advantages the following:\n",
    "\n",
    "* **Composability.** Easily combine and reuse actions\n",
    "* **Object Management.** Work directly with complex structures like images\n",
    "* **Generality.** Express any computationally possible task\n",
    "* **Natural for LLMs.** High-quality code is already present in LLM training data"
   ]
  },
  {
   "cell_type": "markdown",
   "metadata": {},
   "source": [
    "A *CodeAgent* performs actions through a cycle of steps, with existing variables and knowledge being incorporated into the agent's context, which is kept in an execution log.\n",
    "\n",
    "1. The system prompt is stored in a **SystemPromptStep**, and the user query is logged in a **TaskStep**\n",
    "2. The following loop is executed:\n",
    "    2.1 Method **agent.write_memory_to_message() writes the agent's logs into a list of LLM-readable chat messages\n",
    "    2.2 These messages are sent to a **Model**, which generates a completion\n",
    "    2.3 The completion is parsed to extract the action, which should be a code snippet\n",
    "    2.4 The action is executed\n",
    "    2.5 The results are logged into memory in an **ActionStep**\n",
    "\n",
    "At the end of each step, if the agent includes any function calls in **agent.step_callback**, they are executed."
   ]
  },
  {
   "cell_type": "code",
   "execution_count": 3,
   "metadata": {},
   "outputs": [],
   "source": [
    "# Install the smolagents package\n",
    "# pip install smolagents\n",
    "\n",
    "import numpy as np\n",
    "import time\n",
    "import datetime\n",
    "\n",
    "from huggingface_hub import login\n",
    "from smolagents import CodeAgent, DuckDuckGoSearchTool, HfApiModel, tool"
   ]
  },
  {
   "cell_type": "code",
   "execution_count": null,
   "metadata": {},
   "outputs": [],
   "source": [
    "# Connect to the HF Serverless Inference API\n",
    "with open(\"../hf_token.txt\", \"r\") as f:\n",
    "    hf_token = f.readline()\n",
    "\n",
    "login(token = hf_token)"
   ]
  },
  {
   "cell_type": "markdown",
   "metadata": {},
   "source": [
    "We'll start creating an agent capable of searching the web using DuckDuckGo. We'll use the default model *Qwen/Qwen2.5-Coder-32B-Instruct*"
   ]
  },
  {
   "cell_type": "code",
   "execution_count": null,
   "metadata": {},
   "outputs": [],
   "source": [
    "agent = CodeAgent(tools = [DuckDuckGoSearchTool()],\n",
    "                  model = HfApiModel())\n",
    "agent.run(\"Search for the best music recommendations for a party at the Wayne's mansion.\")"
   ]
  },
  {
   "cell_type": "markdown",
   "metadata": {},
   "source": [
    "The next step will be using the *@tool* decorator to define a custom funciton that acts as a tool."
   ]
  },
  {
   "cell_type": "code",
   "execution_count": null,
   "metadata": {},
   "outputs": [],
   "source": [
    "@tool\n",
    "def suggest_menu(occasion:str) -> str:\n",
    "    \"\"\"Suggests a menu based on the occasion.\n",
    "    Args:\n",
    "        occasion: the type of occasion for the party.\"\"\"\n",
    "    \n",
    "    if occasion == \"casual\":\n",
    "        return \"Pizza, snacks, and drinks.\"\n",
    "    elif occasion == \"formal\":\n",
    "        return \"3-course dinner with wine and dessert.\"\n",
    "    elif occasion == \"superhero\":\n",
    "        return \"Buffet with high-energy and healthy food.\"\n",
    "    else:\n",
    "        return \"Custom menu for the butler.\""
   ]
  },
  {
   "cell_type": "code",
   "execution_count": null,
   "metadata": {},
   "outputs": [],
   "source": [
    "agent = CodeAgent(tools = [suggest_menu],\n",
    "                  model = HfApiModel())\n",
    "\n",
    "agent.run(\"Prepare a formal menu for the party.\")"
   ]
  },
  {
   "cell_type": "markdown",
   "metadata": {},
   "source": [
    "*smolagents* specializes in agents that write and execute Python code snippets, offering sandboxed execution for security.\n",
    "\n",
    "Code execution has strict security measures: imports outside a predefined safe list are blocked by default. However, you can authorize additional imports by passing them as strings in *additional_authorized_imports*."
   ]
  },
  {
   "cell_type": "code",
   "execution_count": null,
   "metadata": {},
   "outputs": [],
   "source": [
    "agent = CodeAgent(tools = [DuckDuckGoSearchTool(), suggest_menu],\n",
    "                  model = HfApiModel(),\n",
    "                  additional_authorized_imports = [\"datetime\"])\n",
    "\n",
    "agent.run(\"\"\"Alfred needs to prepare for the party. Here are the tasks:\n",
    "          1. Prepare the drinks - 30 minutes\n",
    "          2. Decorate the mansion - 60 minutes\n",
    "          3. Set up the menu - 45 minutes\n",
    "          4. Prepare the music and playlist - 45 minutes\n",
    "          \n",
    "          If we start right now, at what time will the party be ready?\"\"\")"
   ]
  },
  {
   "cell_type": "markdown",
   "metadata": {},
   "source": [
    "## Pushing the code into Hugging Face Hub"
   ]
  },
  {
   "cell_type": "code",
   "execution_count": null,
   "metadata": {},
   "outputs": [],
   "source": [
    "# Pushing the code to the Hub\n",
    "hf_username = \"germanebr\"\n",
    "agent.push_to_hub(f'{hf_username}/AlfredAgent')"
   ]
  },
  {
   "cell_type": "code",
   "execution_count": null,
   "metadata": {},
   "outputs": [],
   "source": [
    "# Download an agent from a HF Hub repo\n",
    "alfred_agent = agent.from_hub(f\"{hf_username}/AlfredAgent\")\n",
    "alfred_agent.run(\"Give me the best playlist for a party at Wayne's mansion. the party idea is a 'villain masquerade' theme.\")"
   ]
  },
  {
   "cell_type": "markdown",
   "metadata": {},
   "source": [
    "# Full Alfred Agent\n",
    "\n",
    "The following code lists a more complete agent prepared for performing multiple tasks apart from the ones mentioned above. Most of the unseen modules will be discussed later."
   ]
  },
  {
   "cell_type": "code",
   "execution_count": null,
   "metadata": {},
   "outputs": [],
   "source": [
    "from smolagents import CodeAgent, DuckDuckGoSearchTool, FinalAnswerTool, HfApiModel, Tool, tool, VisitWebpageTool"
   ]
  },
  {
   "cell_type": "code",
   "execution_count": null,
   "metadata": {},
   "outputs": [],
   "source": [
    "@tool\n",
    "def suggest_menu(occasion:str) -> str:\n",
    "    \"\"\"Suggests a menu based on the occasion.\n",
    "    Args:\n",
    "        occasion: The type of occasion for the party.\"\"\"\n",
    "    \n",
    "    if occasion == \"casual\":\n",
    "        return \"Pizza, snacks, and drinks.\"\n",
    "    elif occasion == \"formal\":\n",
    "        return \"3-course dinner with wine and dessert.\"\n",
    "    elif occasion == \"superhero\":\n",
    "        return \"Buffet with high-energy and healthy food.\"\n",
    "    else:\n",
    "        return \"Custom menu from the butler.\""
   ]
  },
  {
   "cell_type": "code",
   "execution_count": null,
   "metadata": {},
   "outputs": [],
   "source": [
    "@tool\n",
    "def catering_serviec_tool(query:str) -> str:\n",
    "    \"\"\"This tool returns the highest-rated catering service in Gotham City.\n",
    "    Args:\n",
    "        query: A search term for finding catering services.\"\"\"\n",
    "    \n",
    "    # List of catering services and their ratings\n",
    "    services = {\"Gotham Catering Co.\": 4.9,\n",
    "                \"Wayne Manor Catering\": 4.8,\n",
    "                \"Gotham City Events\": 4.7}\n",
    "    \n",
    "    # Find the highest rated catering service (simulating search query filtering)\n",
    "    best_service = max(services,\n",
    "                       key = services.get)\n",
    "    return best_service"
   ]
  },
  {
   "cell_type": "code",
   "execution_count": null,
   "metadata": {},
   "outputs": [],
   "source": [
    "class SuperherPartyThemeTool(Tool):\n",
    "    name = \"superhero_party_theme_generator\"\n",
    "    \n",
    "    description = \"\"\"This tool suggests creative superhero-themed party ideas based on a category.\n",
    "    It returns a unique party theme idea.\"\"\"\n",
    "\n",
    "    inputs = {\"category\": {\"type\": \"string\",\n",
    "                           \"description\": \"The type of superhero party (e.g., 'classic heroes', 'villain masquerade', 'futuristic Gotham').\"}}\n",
    "    output_type = \"string\"\n",
    "\n",
    "    def forward(self, category:str):\n",
    "        themes = {\"classic heroes\": \"Justice League Gala: Guests come dressed as their favorite DC heroes with themed cocktails like 'The Kryptonite Punch'.\",\n",
    "                  \"villain masquerade\": \"Gotham Rogues' Ball: A mysterious masquerade where guests dress as classic Batman villains.\",\n",
    "                  \"futuristic Gotham\": \"Neo-Gotham Night: A cyberpunk-style party inspired by Batman Beyond, with neon decorations and futuristic gadgets.\"}\n",
    "        \n",
    "        return themes.get(category.lower(), \"Themed party idea not found. Try 'classic heroes', 'villain masquerade', or 'futuristic Gotham'.\")"
   ]
  },
  {
   "cell_type": "code",
   "execution_count": null,
   "metadata": {},
   "outputs": [],
   "source": [
    "agent = CodeAgent(tools = [DuckDuckGoSearchTool(),\n",
    "                           VisitWebpageTool(),\n",
    "                           suggest_menu,\n",
    "                           catering_serviec_tool,\n",
    "                           SuperheroPartyThemeTool()],\n",
    "                  model = HfApiModel(),\n",
    "                  max_steps = 10,\n",
    "                  verbosity_level = 2)\n",
    "\n",
    "agent.run(\"Give me best playlist for a party at the Wayne's mansion. The party idea is a 'villain masquerade' theme\")"
   ]
  },
  {
   "cell_type": "markdown",
   "metadata": {},
   "source": [
    "## Inspecting the agent with OpenTelemetry and Langfuse\n",
    "\n",
    "*smolagents* is capable to use the **OpenTelemetry** standard for instrumenting agent runs, allowing seamless inspection and logging. Apart from that, by using **Langfuse** and the **SmolagentsInstrumentor**, we can track and analyze the agent's behavior."
   ]
  },
  {
   "cell_type": "code",
   "execution_count": null,
   "metadata": {},
   "outputs": [],
   "source": [
    "# Install the dependencies\n",
    "# pip install opentelemetry-sdk opentelemetry-exporter-otlp openinference-instrumentation-smolagents"
   ]
  },
  {
   "cell_type": "code",
   "execution_count": null,
   "metadata": {},
   "outputs": [],
   "source": [
    "import os\n",
    "import base64\n",
    "import json\n",
    "\n",
    "from smolagents import CodeAgent, HfApiModel\n",
    "\n",
    "from opentelemetry.sdk.trace import TracerProvider\n",
    "\n",
    "from openinference.instrumentation.smolagents import SmolagentsInstrumentor\n",
    "from opentelemetry.exporter.otlp.proto.http.trace_exporter import OTLPSpanExporter\n",
    "from opentelemetry.sdk.trace.export import SimpleSpanProcessor"
   ]
  },
  {
   "cell_type": "code",
   "execution_count": null,
   "metadata": {},
   "outputs": [],
   "source": [
    "with open(\"../langfuse_token.json\", \"r\") as f:\n",
    "    keys = json.load(f)\n",
    "\n",
    "LANGFUSE_PUBLIC_KEY = keys[\"public_key\"]\n",
    "LANGFUSE_SECRET_KEY = keys[\"secret_key\"]\n",
    "LANGFUSE_AUTH = base64.b64encode(f\"{LANGFUSE_PUBLIC_KEY}:{LANGFUSE_SECRET_KEY}\".encode()).decode()\n",
    "\n",
    "# os.environ[\"OTEL_EXPORTER_OTLP_ENDPOINT\"] = \"https://cloud.langfuse.com/api/public/otel\" # EU data region\n",
    "os.environ[\"OTEL_EXPORTER_OTLP_ENDPOINT\"] = \"https://us.cloud.langfuse.com/api/public/otel\" # US data region\n",
    "os.environ[\"OTEL_EXPORTER_OTLP_HEADERS\"] = f\"Authorization=Basic {LANGFUSE_AUTH}\""
   ]
  },
  {
   "cell_type": "code",
   "execution_count": null,
   "metadata": {},
   "outputs": [],
   "source": [
    "trace_provider = TracerProvider()\n",
    "trace_provider.add_span_processor(SimpleSpanProcessor(OTLPSpanExporter()))\n",
    "\n",
    "SmolagentsInstrumentor().instrument(tracer_provider=trace_provider)"
   ]
  },
  {
   "cell_type": "code",
   "execution_count": null,
   "metadata": {},
   "outputs": [],
   "source": [
    "agent = CodeAgent(tools=[], model=HfApiModel())\n",
    "alfred_agent = agent.from_hub('sergiopaniego/AlfredAgent', trust_remote_code=True)\n",
    "alfred_agent.run(\"Give me the best playlist for a party at Wayne's mansion. The party idea is a 'villain masquerade' theme\")"
   ]
  }
 ],
 "metadata": {
  "kernelspec": {
   "display_name": ".venv",
   "language": "python",
   "name": "python3"
  },
  "language_info": {
   "codemirror_mode": {
    "name": "ipython",
    "version": 3
   },
   "file_extension": ".py",
   "mimetype": "text/x-python",
   "name": "python",
   "nbconvert_exporter": "python",
   "pygments_lexer": "ipython3",
   "version": "3.12.9"
  }
 },
 "nbformat": 4,
 "nbformat_minor": 2
}
